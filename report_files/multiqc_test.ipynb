{
 "cells": [
  {
   "cell_type": "code",
   "execution_count": 2,
   "id": "6aa8b2d1-7ec7-4ef3-a10d-3acc053a4076",
   "metadata": {},
   "outputs": [],
   "source": [
    "import multiqc"
   ]
  },
  {
   "cell_type": "code",
   "execution_count": 4,
   "id": "b8eeb09a-913e-4b59-b0c6-e2f7c58c9778",
   "metadata": {},
   "outputs": [
    {
     "data": {
      "text/html": [
       "<pre style=\"white-space:pre;overflow-x:auto;line-height:normal;font-family:Menlo,'DejaVu Sans Mono',consolas,'Courier New',monospace\">\n",
       "  <span style=\"color: #000080; text-decoration-color: #000080\">/</span><span style=\"color: #008000; text-decoration-color: #008000\">/</span><span style=\"color: #800000; text-decoration-color: #800000\">/</span> <a href=\"https://multiqc.info\" target=\"_blank\"><span style=\"font-weight: bold\">MultiQC</span></a> 🔍 <span style=\"color: #7f7f7f; text-decoration-color: #7f7f7f\">| v1.14</span>\n",
       "\n",
       "</pre>\n"
      ],
      "text/plain": [
       "\n",
       "  \u001b[34m/\u001b[0m\u001b[32m/\u001b[0m\u001b[31m/\u001b[0m \u001b]8;id=731880;https://multiqc.info\u001b\\\u001b[1mMultiQC\u001b[0m\u001b]8;;\u001b\\ 🔍 \u001b[2m| v1.14\u001b[0m\n",
       "\n"
      ]
     },
     "metadata": {},
     "output_type": "display_data"
    },
    {
     "name": "stderr",
     "output_type": "stream",
     "text": [
      "|           multiqc | Search path : /home/jupyter/github/malaria-reports/report_files/igv_test_files\n"
     ]
    },
    {
     "data": {
      "application/vnd.jupyter.widget-view+json": {
       "model_id": "9742575ef32a4b4880ed1d44e86a4cac",
       "version_major": 2,
       "version_minor": 0
      },
      "text/plain": [
       "Output()"
      ]
     },
     "metadata": {},
     "output_type": "display_data"
    },
    {
     "data": {
      "text/html": [
       "<pre style=\"white-space:pre;overflow-x:auto;line-height:normal;font-family:Menlo,'DejaVu Sans Mono',consolas,'Courier New',monospace\"></pre>\n"
      ],
      "text/plain": []
     },
     "metadata": {},
     "output_type": "display_data"
    },
    {
     "data": {
      "text/html": [
       "<pre style=\"white-space:pre;overflow-x:auto;line-height:normal;font-family:Menlo,'DejaVu Sans Mono',consolas,'Courier New',monospace\">\n",
       "</pre>\n"
      ],
      "text/plain": [
       "\n"
      ]
     },
     "metadata": {},
     "output_type": "display_data"
    },
    {
     "name": "stderr",
     "output_type": "stream",
     "text": [
      "|           multiqc | No analysis results found. Cleaning up..\n",
      "|           multiqc | MultiQC complete\n"
     ]
    },
    {
     "ename": "SystemExit",
     "evalue": "0",
     "output_type": "error",
     "traceback": [
      "An exception has occurred, use %tb to see the full traceback.\n",
      "\u001b[0;31mSystemExit\u001b[0m\u001b[0;31m:\u001b[0m 0\n"
     ]
    }
   ],
   "source": [
    "multiqc.run('./igv_test_files')"
   ]
  },
  {
   "cell_type": "code",
   "execution_count": null,
   "id": "00bb55fd-3967-4177-962a-502101b57b9d",
   "metadata": {},
   "outputs": [],
   "source": []
  }
 ],
 "metadata": {
  "environment": {
   "kernel": "python3",
   "name": "common-cpu.m102",
   "type": "gcloud",
   "uri": "gcr.io/deeplearning-platform-release/base-cpu:m102"
  },
  "kernelspec": {
   "display_name": "Python 3",
   "language": "python",
   "name": "python3"
  },
  "language_info": {
   "codemirror_mode": {
    "name": "ipython",
    "version": 3
   },
   "file_extension": ".py",
   "mimetype": "text/x-python",
   "name": "python",
   "nbconvert_exporter": "python",
   "pygments_lexer": "ipython3",
   "version": "3.7.12"
  }
 },
 "nbformat": 4,
 "nbformat_minor": 5
}
